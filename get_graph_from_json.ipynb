{
 "cells": [
  {
   "cell_type": "code",
   "execution_count": 13,
   "id": "ebd710b9",
   "metadata": {},
   "outputs": [],
   "source": [
    "import json\n",
    "  \n",
    "# Opening JSON file\n",
    "f = open('graph.json',)\n",
    "  \n",
    "# returns JSON object as \n",
    "# a dictionary\n",
    "graph = json.load(f)"
   ]
  },
  {
   "cell_type": "code",
   "execution_count": 14,
   "id": "c42e9add",
   "metadata": {},
   "outputs": [],
   "source": [
    "n = len(graph)"
   ]
  },
  {
   "cell_type": "code",
   "execution_count": 15,
   "id": "7e049ced",
   "metadata": {},
   "outputs": [
    {
     "data": {
      "text/plain": [
       "[{'name': 'Scott Eastwood', 'shared_movies': ['The Outpost']},\n",
       " {'name': 'Caleb Landry Jones', 'shared_movies': ['The Outpost']},\n",
       " {'name': 'Jack Kesy', 'shared_movies': ['The Outpost']},\n",
       " {'name': 'Cory Hardrict', 'shared_movies': ['The Outpost']},\n",
       " {'name': 'Milo Gibson', 'shared_movies': ['The Outpost']},\n",
       " {'name': 'Jacob Scipio', 'shared_movies': ['The Outpost']},\n",
       " {'name': 'Taylor John Smith', 'shared_movies': ['The Outpost']},\n",
       " {'name': 'Jonathan Yunger', 'shared_movies': ['The Outpost']},\n",
       " {'name': 'Alexander Arnold', 'shared_movies': ['The Outpost']},\n",
       " {'name': 'George Arvidson', 'shared_movies': ['The Outpost']},\n",
       " {'name': 'Will Attenborough', 'shared_movies': ['The Outpost']},\n",
       " {'name': 'Chris Born', 'shared_movies': ['The Outpost']},\n",
       " {'name': 'Ernest Cavazos', 'shared_movies': ['The Outpost']},\n",
       " {'name': 'Scott Alda Coffey', 'shared_movies': ['The Outpost']}]"
      ]
     },
     "execution_count": 15,
     "metadata": {},
     "output_type": "execute_result"
    }
   ],
   "source": [
    "graph[\"Orlando Bloom\"]"
   ]
  },
  {
   "cell_type": "code",
   "execution_count": 16,
   "id": "46bba5ae",
   "metadata": {},
   "outputs": [],
   "source": [
    "from queue import Queue\n",
    "def solve(start):\n",
    "    q = Queue()\n",
    "    q.put(start)\n",
    "    \n",
    "    prev = []"
   ]
  },
  {
   "cell_type": "code",
   "execution_count": 17,
   "id": "aa052d1c",
   "metadata": {},
   "outputs": [],
   "source": [
    "def bfs(start, end):\n",
    "    prev = solve(start)\n",
    "    return reconstructPath(start, end, prev)\n",
    "        "
   ]
  },
  {
   "cell_type": "code",
   "execution_count": 18,
   "id": "fafd1ae1",
   "metadata": {},
   "outputs": [],
   "source": [
    "graph2 = {'A': ['B', 'E', 'C'],\n",
    "            'B': ['A', 'D', 'E'],\n",
    "            'C': ['A', 'F', 'G'],\n",
    "            'D': ['B', 'E'],\n",
    "            'E': ['A', 'B', 'D'],\n",
    "            'F': ['C'],\n",
    "            'G': ['C']}"
   ]
  },
  {
   "cell_type": "code",
   "execution_count": 19,
   "id": "f9b065f8",
   "metadata": {},
   "outputs": [],
   "source": [
    "def BFS_SP(graph, start, goal):\n",
    "    explored = []\n",
    "     \n",
    "    # Queue for traversing the\n",
    "    # graph in the BFS\n",
    "    queue = [[start]]\n",
    "     \n",
    "    # If the desired node is\n",
    "    # reached\n",
    "    if start == goal:\n",
    "        print(\"Same Node\")\n",
    "        return\n",
    "     \n",
    "    # Loop to traverse the graph\n",
    "    # with the help of the queue\n",
    "    while queue:\n",
    "        path = queue.pop(0)\n",
    "        node = path[-1]\n",
    "         \n",
    "        # Condition to check if the\n",
    "        # current node is not visited\n",
    "        if node not in explored:\n",
    "            neighbours = graph[node]\n",
    "             \n",
    "            # Loop to iterate over the\n",
    "            # neighbours of the node\n",
    "            for neighbour in neighbours:\n",
    "                new_path = list(path)\n",
    "                new_path.append(neighbour[\"name\"])\n",
    "                queue.append(new_path)\n",
    "                 \n",
    "                # Condition to check if the\n",
    "                # neighbour node is the goal\n",
    "                if neighbour[\"name\"] == goal:\n",
    "                    print(new_path)\n",
    "                    return\n",
    "            explored.append(node)\n",
    " \n",
    "    # Condition when the nodes\n",
    "    # are not connected\n",
    "    print(\"So sorry, but a connecting\"\\\n",
    "                \"path doesn't exist :(\")\n",
    "    return"
   ]
  },
  {
   "cell_type": "code",
   "execution_count": 20,
   "id": "2da2798c",
   "metadata": {},
   "outputs": [
    {
     "name": "stdout",
     "output_type": "stream",
     "text": [
      "['Leonardo DiCaprio', 'Margot Robbie', 'David Ury', 'Gina Rodriguez', 'Will Forte', 'Terry Crews']\n"
     ]
    }
   ],
   "source": [
    "BFS_SP(graph, 'Leonardo DiCaprio', 'Terry Crews')"
   ]
  }
 ],
 "metadata": {
  "kernelspec": {
   "display_name": "Python 3 (ipykernel)",
   "language": "python",
   "name": "python3"
  },
  "language_info": {
   "codemirror_mode": {
    "name": "ipython",
    "version": 3
   },
   "file_extension": ".py",
   "mimetype": "text/x-python",
   "name": "python",
   "nbconvert_exporter": "python",
   "pygments_lexer": "ipython3",
   "version": "3.8.10"
  }
 },
 "nbformat": 4,
 "nbformat_minor": 5
}
